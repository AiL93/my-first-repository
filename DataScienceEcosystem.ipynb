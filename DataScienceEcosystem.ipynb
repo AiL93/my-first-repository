{
  "metadata": {
    "kernelspec": {
      "name": "python",
      "display_name": "Python (Pyodide)",
      "language": "python"
    },
    "language_info": {
      "codemirror_mode": {
        "name": "python",
        "version": 3
      },
      "file_extension": ".py",
      "mimetype": "text/x-python",
      "name": "python",
      "nbconvert_exporter": "python",
      "pygments_lexer": "ipython3",
      "version": "3.8"
    }
  },
  "nbformat_minor": 4,
  "nbformat": 4,
  "cells": [
    {
      "cell_type": "markdown",
      "source": "#  інструменти та екосистема даних\n",
      "metadata": {}
    },
    {
      "cell_type": "markdown",
      "source": "# у цьому ноутбуку підсумовані інструменти та екосистема даних",
      "metadata": {}
    },
    {
      "cell_type": "markdown",
      "source": "# Деякі з популярних мов, які використовують науковці з даних, це:\n1. python\n2. R\n3. C+\n4. C++",
      "metadata": {}
    },
    {
      "cell_type": "markdown",
      "source": "# Деякі з загальновживаних бібліотек, які використовують науковці з даних, включають:\n1. tensor flow\n2. scipy\n3. panda",
      "metadata": {}
    },
    {
      "cell_type": "markdown",
      "source": "У цьому блокноті підсумовані інструменти та екосистема даних.\n\n**цілі:**\n\n-Перелік популярних мов для науки про дані\n\n-перелік інструментів з вихідним кодом\n\n-створення таблиць в markdown cells\n\n-математичні вирази в mardown cells",
      "metadata": {}
    },
    {
      "cell_type": "markdown",
      "source": "|інструменти даних|\n|-----------------|\n|1. tensor flow|\n|2. hadoop|\n|3. apache spark|",
      "metadata": {}
    },
    {
      "cell_type": "markdown",
      "source": "### Нижче наведено кілька прикладів оцінки арифметичних виразів у Python.\n\nWhen $a \\ne 0$, there are two solutions to $(ax^2 + bx + c = 0)$ and they are\n$$ x = {-b \\pm \\sqrt{b^2-4ac} \\over 2a} $$\n\n\n$$4*7(25/5)+15$$\n\n$$2+3$$\n",
      "metadata": {}
    },
    {
      "cell_type": "code",
      "source": "# Це простий арифметичний вираз для множення, а потім додавання цілих чисел\n(3*4)+5",
      "metadata": {
        "trusted": true
      },
      "outputs": [
        {
          "execution_count": 2,
          "output_type": "execute_result",
          "data": {
            "text/plain": "17"
          },
          "metadata": {}
        }
      ],
      "execution_count": 2
    },
    {
      "cell_type": "code",
      "source": "# Це перетворить 200 хвилин на години, ділячи на 60\n200/60",
      "metadata": {
        "trusted": true
      },
      "outputs": [
        {
          "execution_count": 3,
          "output_type": "execute_result",
          "data": {
            "text/plain": "3.3333333333333335"
          },
          "metadata": {}
        }
      ],
      "execution_count": 3
    },
    {
      "cell_type": "markdown",
      "source": "## Author:\n\nSerhii Kryvosheia",
      "metadata": {}
    },
    {
      "cell_type": "code",
      "source": "",
      "metadata": {
        "trusted": true
      },
      "outputs": [],
      "execution_count": null
    }
  ]
}